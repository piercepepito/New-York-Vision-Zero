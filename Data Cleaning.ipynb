{
 "cells": [
  {
   "cell_type": "markdown",
   "metadata": {},
   "source": [
    "# Preparing Data For Driver Behavior\n",
    "    In the 5th year of the Vision Zero program, the New York City government is focusing on pedestrian safety especially for the senoir citizens, bicycle lanes, driver education program for people under 25 years old, and adding new traffic signals. This cleaning will be focusing on cleaning the data for the driver education program. \n",
    "       \n",
    "    Two things will be accomplished in this notebook, namely:\n",
    "        > Checking for any NaN values in the dataset\n",
    "        > Filter out any unncessary data for exploratory analysis, and\n",
    "        > Feature Engineering"
   ]
  },
  {
   "cell_type": "code",
   "execution_count": 1,
   "metadata": {
    "collapsed": true
   },
   "outputs": [],
   "source": [
    "import pandas as pd\n",
    "import numpy as np"
   ]
  },
  {
   "cell_type": "code",
   "execution_count": 2,
   "metadata": {
    "collapsed": true
   },
   "outputs": [],
   "source": [
    "df = pd.read_csv(\"data/Traffic_Tickets_Issued__Four_Year_Window.csv\")"
   ]
  },
  {
   "cell_type": "code",
   "execution_count": 3,
   "metadata": {},
   "outputs": [
    {
     "data": {
      "text/plain": [
       "Index(['Violation Charged Code', 'Violation Description', 'Violation Year',\n",
       "       'Violation Month', 'Violation Day of Week', 'Age at Violation',\n",
       "       'Gender', 'State of License', 'Police Agency', 'Court', 'Source'],\n",
       "      dtype='object')"
      ]
     },
     "execution_count": 3,
     "metadata": {},
     "output_type": "execute_result"
    }
   ],
   "source": [
    "df.columns"
   ]
  },
  {
   "cell_type": "markdown",
   "metadata": {},
   "source": [
    "# Checking NaN Values and Filtering Out Uneccesary Data\n",
    "    In this section, NaN values on any of parameters will be checked if it will be acceptable to have any missing data. Then after checking for any missing values, filtering out all licences outside of New York will be next, since the study is mainly focused on the driving behavior of New York Drivers."
   ]
  },
  {
   "cell_type": "code",
   "execution_count": 4,
   "metadata": {},
   "outputs": [
    {
     "data": {
      "text/plain": [
       "(14275009, 11)"
      ]
     },
     "execution_count": 4,
     "metadata": {},
     "output_type": "execute_result"
    }
   ],
   "source": [
    "#observation by parameter\n",
    "df.shape"
   ]
  },
  {
   "cell_type": "code",
   "execution_count": 9,
   "metadata": {},
   "outputs": [
    {
     "data": {
      "text/plain": [
       "Violation Charged Code    0.00000\n",
       "Violation Description     0.00000\n",
       "Violation Year            0.00000\n",
       "Violation Month           0.00000\n",
       "Violation Day of Week     0.00000\n",
       "Age at Violation          1.10810\n",
       "Gender                    0.00000\n",
       "State of License          0.00035\n",
       "Police Agency             0.00000\n",
       "Court                     0.00000\n",
       "Source                    0.00000\n",
       "dtype: float64"
      ]
     },
     "execution_count": 9,
     "metadata": {},
     "output_type": "execute_result"
    }
   ],
   "source": [
    "#ratio of missing values with respect to total number of obsevations\n",
    "\n",
    "round(df.isnull().sum()/df.shape[0] *100, 5)"
   ]
  },
  {
   "cell_type": "markdown",
   "metadata": {},
   "source": [
    "The dataframe has only 2 parameters that contain NaN values, which are: Age at Violation and State Of License. Considering that missing values for both of these parameters are insignificant, dropping the missing observations would be best."
   ]
  },
  {
   "cell_type": "code",
   "execution_count": 10,
   "metadata": {},
   "outputs": [],
   "source": [
    "#filtering out state licences outside of new york and dropping all NaN values \n",
    "df = df[df[\"State of License\"] == \"NEW YORK\"].dropna()"
   ]
  },
  {
   "cell_type": "code",
   "execution_count": 22,
   "metadata": {},
   "outputs": [
    {
     "name": "stdout",
     "output_type": "stream",
     "text": [
      "After removing all NaN values and filtering out license plates outside of New York, we have a total of 11520746 rows from 14M + observations\n"
     ]
    }
   ],
   "source": [
    "print(\"After removing all NaN values and filtering out license plates outside of New York, we have a total of {0} rows from 14M + observations\" .format(df.shape[0]))"
   ]
  },
  {
   "cell_type": "markdown",
   "metadata": {},
   "source": [
    "# Feature Engineering\n",
    "    Lastly, the data set will have added features, which are age groups and season. An age group parameter will be added to find out if people of different generations behave differently as well as a season column to perform time series analysis upon data exploration."
   ]
  },
  {
   "cell_type": "code",
   "execution_count": 23,
   "metadata": {
    "collapsed": true
   },
   "outputs": [],
   "source": [
    "#Age Group\n",
    "condlist = [df[\"Age at Violation\"] >= 54, (df[\"Age at Violation\"] < 54) & (df[\"Age at Violation\"] >= 37), (df[\"Age at Violation\"] < 37) & (df[\"Age at Violation\"] >= 23),\n",
    "           df[\"Age at Violation\"] < 23]\n",
    "choicelist = [\"Baby Boomers\", \"Generation X\", \"Millenial\", \"Centennials\"]\n",
    "\n",
    "df[\"Age Group\"] = np.select(condlist, choicelist)"
   ]
  },
  {
   "cell_type": "code",
   "execution_count": 24,
   "metadata": {
    "collapsed": true
   },
   "outputs": [],
   "source": [
    "#Season\n",
    "condlist = [(df[\"Violation Month\"] == 12) | (df[\"Violation Month\"] == 1) | (df[\"Violation Month\"] == 2), \n",
    "           (df[\"Violation Month\"] >= 3) & (df[\"Violation Month\"] <= 5),\n",
    "           (df[\"Violation Month\"] >= 6) & (df[\"Violation Month\"] <= 8),\n",
    "           (df[\"Violation Month\"] >= 9) & (df[\"Violation Month\"] <= 11),]\n",
    "choicelist = [\"Winter\", \"Spring\", \"Summer\", \"Fall\"]\n",
    "\n",
    "df[\"Season\"] = np.select(condlist, choicelist)"
   ]
  },
  {
   "cell_type": "markdown",
   "metadata": {},
   "source": [
    "## Save a CSV file"
   ]
  },
  {
   "cell_type": "code",
   "execution_count": 26,
   "metadata": {},
   "outputs": [],
   "source": [
    "df.to_csv(\"driver_behavior.csv\", index = False)"
   ]
  }
 ],
 "metadata": {
  "kernelspec": {
   "display_name": "Python 3",
   "language": "python",
   "name": "python3"
  },
  "language_info": {
   "codemirror_mode": {
    "name": "ipython",
    "version": 3
   },
   "file_extension": ".py",
   "mimetype": "text/x-python",
   "name": "python",
   "nbconvert_exporter": "python",
   "pygments_lexer": "ipython3",
   "version": "3.6.3"
  }
 },
 "nbformat": 4,
 "nbformat_minor": 2
}
